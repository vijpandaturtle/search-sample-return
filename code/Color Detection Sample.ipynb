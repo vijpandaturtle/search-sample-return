{
 "cells": [
  {
   "cell_type": "markdown",
   "metadata": {},
   "source": [
    "## Notebook to detect colors using CV"
   ]
  },
  {
   "cell_type": "code",
   "execution_count": 3,
   "metadata": {},
   "outputs": [],
   "source": [
    "import sys\n",
    "import cv2\n",
    "import numpy as np\n",
    "import matplotlib.pyplot as plt\n",
    "%matplotlib inline"
   ]
  },
  {
   "cell_type": "code",
   "execution_count": 18,
   "metadata": {},
   "outputs": [
    {
     "data": {
      "text/plain": [
       "<matplotlib.image.AxesImage at 0x86095eae48>"
      ]
     },
     "execution_count": 18,
     "metadata": {},
     "output_type": "execute_result"
    },
    {
     "data": {
      "image/png": "[encoded data removed]",
      "text/plain": [
       "<matplotlib.figure.Figure at 0x8609464b38>"
      ]
     },
     "metadata": {},
     "output_type": "display_data"
    }
   ],
   "source": [
    "THRESHOLD_LOW = (15, 210, 20)\n",
    "THRESHOLD_HIGH = (35, 255, 255)\n",
    "\n",
    "\n",
    "def color_thresh_other(im, thresh_upper=(35, 255, 255), thresh_lower=(15, 210, 20)):\n",
    "    img = cv2.imread(im, 1)\n",
    "    img_filter = cv2.GaussianBlur(img.copy(), (3, 3), 0)\n",
    "    img_filter = cv2.cvtColor(img_filter, cv2.COLOR_BGR2HSV)\n",
    "    img_binary = cv2.inRange(img_filter.copy(), thresh_lower, thresh_upper)\n",
    "    img_binary = cv2.dilate(img_binary, None, iterations = 1)\n",
    "    return img_binary\n",
    "\n",
    "obstacles_thresh = color_thresh_other('../calibration_images/example_rock1.jpg',(100,50,50),(0,0,0))\n",
    "yellow_rock = color_thresh_other('../calibration_images/example_rock1.jpg')\n",
    "figure = plt.figure(figsize=(12,7))\n",
    "plt.subplot(221)\n",
    "plt.imshow(yellow_rock, cmap='gray')\n",
    "plt.subplot(222)\n",
    "plt.imshow(obstacles_thresh, cmap='gray')"
   ]
  }
 ],
 "metadata": {
  "kernelspec": {
   "display_name": "Python 3",
   "language": "python",
   "name": "python3"
  },
  "language_info": {
   "codemirror_mode": {
    "name": "ipython",
    "version": 3
   },
   "file_extension": ".py",
   "mimetype": "text/x-python",
   "name": "python",
   "nbconvert_exporter": "python",
   "pygments_lexer": "ipython3",
   "version": "3.5.2"
  },
  "widgets": {
   "state": {},
   "version": "1.1.2"
  }
 },
 "nbformat": 4,
 "nbformat_minor": 2
}
